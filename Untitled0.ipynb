{
  "nbformat": 4,
  "nbformat_minor": 0,
  "metadata": {
    "colab": {
      "provenance": [],
      "authorship_tag": "ABX9TyOegCs1LyJbP2Nop/QPl68z",
      "include_colab_link": true
    },
    "kernelspec": {
      "name": "python3",
      "display_name": "Python 3"
    },
    "language_info": {
      "name": "python"
    }
  },
  "cells": [
    {
      "cell_type": "markdown",
      "metadata": {
        "id": "view-in-github",
        "colab_type": "text"
      },
      "source": [
        "<a href=\"https://colab.research.google.com/github/kinyuac101/Git-GitHub-Project/blob/main/Untitled0.ipynb\" target=\"_parent\"><img src=\"https://colab.research.google.com/assets/colab-badge.svg\" alt=\"Open In Colab\"/></a>"
      ]
    },
    {
      "cell_type": "code",
      "execution_count": null,
      "metadata": {
        "colab": {
          "base_uri": "https://localhost:8080/"
        },
        "id": "UbjCOjOz9rJ6",
        "outputId": "dea803fb-4708-4659-f408-019f629148da"
      },
      "outputs": [
        {
          "output_type": "stream",
          "name": "stdout",
          "text": [
            "Hello world!\n"
          ]
        }
      ],
      "source": [
        "print (\"Hello world!\")"
      ]
    },
    {
      "cell_type": "code",
      "source": [
        "\"Python Print Function\"\n",
        "\"The function is declared like this:\"\n",
        "\"print('what to print')\""
      ],
      "metadata": {
        "colab": {
          "base_uri": "https://localhost:8080/",
          "height": 35
        },
        "id": "kcP2Gi5t-vks",
        "outputId": "cbb7bcb9-2f4c-405f-82ec-f41acee86245"
      },
      "execution_count": null,
      "outputs": [
        {
          "output_type": "execute_result",
          "data": {
            "text/plain": [
              "\"print('what to print')\""
            ],
            "application/vnd.google.colaboratory.intrinsic+json": {
              "type": "string"
            }
          },
          "metadata": {},
          "execution_count": 2
        }
      ]
    },
    {
      "cell_type": "code",
      "source": [
        "print(\"hello world! \\nhello world! \\nhello world! \\n\")"
      ],
      "metadata": {
        "colab": {
          "base_uri": "https://localhost:8080/"
        },
        "id": "Q41I6du_C287",
        "outputId": "b5e81cfb-494f-4f95-84fb-908afc5c240d"
      },
      "execution_count": null,
      "outputs": [
        {
          "output_type": "stream",
          "name": "stdout",
          "text": [
            "hello world! \n",
            "hello world! \n",
            "hello world! \n",
            "\n"
          ]
        }
      ]
    },
    {
      "cell_type": "code",
      "source": [
        "input('what is your name?')"
      ],
      "metadata": {
        "colab": {
          "base_uri": "https://localhost:8080/",
          "height": 54
        },
        "id": "a5tFn0H8Eqns",
        "outputId": "bb13c8b6-47e7-40f9-f04a-16ea192e8bf5"
      },
      "execution_count": null,
      "outputs": [
        {
          "name": "stdout",
          "output_type": "stream",
          "text": [
            "what is your name?Cyrus\n"
          ]
        },
        {
          "output_type": "execute_result",
          "data": {
            "text/plain": [
              "'Cyrus'"
            ],
            "application/vnd.google.colaboratory.intrinsic+json": {
              "type": "string"
            }
          },
          "metadata": {},
          "execution_count": 4
        }
      ]
    },
    {
      "cell_type": "code",
      "source": [
        "input('What is your talent?')"
      ],
      "metadata": {
        "colab": {
          "base_uri": "https://localhost:8080/",
          "height": 54
        },
        "id": "OKsjEMI2GXd6",
        "outputId": "a9eff9ca-025c-4aa1-a342-6623ed43782d"
      },
      "execution_count": null,
      "outputs": [
        {
          "name": "stdout",
          "output_type": "stream",
          "text": [
            "What is your talent?skating\n"
          ]
        },
        {
          "output_type": "execute_result",
          "data": {
            "text/plain": [
              "'skating'"
            ],
            "application/vnd.google.colaboratory.intrinsic+json": {
              "type": "string"
            }
          },
          "metadata": {},
          "execution_count": 6
        }
      ]
    },
    {
      "cell_type": "code",
      "source": [
        "age = 25\n",
        "age"
      ],
      "metadata": {
        "colab": {
          "base_uri": "https://localhost:8080/"
        },
        "id": "4JmhVmPU1x4l",
        "outputId": "2b2fb220-f09b-409d-b437-427ee27ccd4f"
      },
      "execution_count": null,
      "outputs": [
        {
          "output_type": "execute_result",
          "data": {
            "text/plain": [
              "25"
            ]
          },
          "metadata": {},
          "execution_count": 7
        }
      ]
    },
    {
      "cell_type": "code",
      "source": [
        "favnumber = 38\n",
        "favnumber"
      ],
      "metadata": {
        "colab": {
          "base_uri": "https://localhost:8080/"
        },
        "id": "6yNAIbyi7Zuf",
        "outputId": "368e500d-7b83-43da-eb2d-c2134d947188"
      },
      "execution_count": null,
      "outputs": [
        {
          "output_type": "execute_result",
          "data": {
            "text/plain": [
              "38"
            ]
          },
          "metadata": {},
          "execution_count": 1
        }
      ]
    },
    {
      "cell_type": "code",
      "source": [
        "favourite_meal = \"ugali_beef\"\n",
        "favourite_meal"
      ],
      "metadata": {
        "colab": {
          "base_uri": "https://localhost:8080/",
          "height": 36
        },
        "id": "PaukNTIWLWL_",
        "outputId": "29ed06ef-81cb-43bf-81be-d5549f49f632"
      },
      "execution_count": null,
      "outputs": [
        {
          "output_type": "execute_result",
          "data": {
            "text/plain": [
              "'ugali_beef'"
            ],
            "application/vnd.google.colaboratory.intrinsic+json": {
              "type": "string"
            }
          },
          "metadata": {},
          "execution_count": 3
        }
      ]
    },
    {
      "cell_type": "code",
      "source": [
        "favourite_meal.lower()"
      ],
      "metadata": {
        "colab": {
          "base_uri": "https://localhost:8080/",
          "height": 36
        },
        "id": "tngfTy_DLpVW",
        "outputId": "ef4fb7f8-f3e9-46e8-bffe-6bb906c01871"
      },
      "execution_count": null,
      "outputs": [
        {
          "output_type": "execute_result",
          "data": {
            "text/plain": [
              "'ugali_beef'"
            ],
            "application/vnd.google.colaboratory.intrinsic+json": {
              "type": "string"
            }
          },
          "metadata": {},
          "execution_count": 4
        }
      ]
    },
    {
      "cell_type": "code",
      "source": [
        "favourite_meal.upper()"
      ],
      "metadata": {
        "colab": {
          "base_uri": "https://localhost:8080/",
          "height": 36
        },
        "id": "qxJlF8AsLwQU",
        "outputId": "f40b562f-c687-476d-b2d2-ccc85a9b2c71"
      },
      "execution_count": null,
      "outputs": [
        {
          "output_type": "execute_result",
          "data": {
            "text/plain": [
              "'UGALI_BEEF'"
            ],
            "application/vnd.google.colaboratory.intrinsic+json": {
              "type": "string"
            }
          },
          "metadata": {},
          "execution_count": 5
        }
      ]
    },
    {
      "cell_type": "code",
      "source": [
        "favourite_meal.replace(\"beef\",\"veges\")"
      ],
      "metadata": {
        "colab": {
          "base_uri": "https://localhost:8080/",
          "height": 36
        },
        "id": "fLF-yIGYMXqt",
        "outputId": "f2ba73ef-650a-49e6-cd7f-50e98f8fc3a7"
      },
      "execution_count": null,
      "outputs": [
        {
          "output_type": "execute_result",
          "data": {
            "text/plain": [
              "'ugali_veges'"
            ],
            "application/vnd.google.colaboratory.intrinsic+json": {
              "type": "string"
            }
          },
          "metadata": {},
          "execution_count": 6
        }
      ]
    },
    {
      "cell_type": "code",
      "source": [
        "greeting = \"Hello World\""
      ],
      "metadata": {
        "id": "OiPGMx_RGTXI"
      },
      "execution_count": null,
      "outputs": []
    },
    {
      "cell_type": "code",
      "source": [
        "print(greeting)"
      ],
      "metadata": {
        "colab": {
          "base_uri": "https://localhost:8080/"
        },
        "id": "9DcbN8TxGjmK",
        "outputId": "dd4cd33f-a33a-4ae9-f519-4f28744c613e"
      },
      "execution_count": null,
      "outputs": [
        {
          "output_type": "stream",
          "name": "stdout",
          "text": [
            "Hello World\n"
          ]
        }
      ]
    },
    {
      "cell_type": "code",
      "source": [
        "len(greeting)"
      ],
      "metadata": {
        "colab": {
          "base_uri": "https://localhost:8080/"
        },
        "id": "3jSspQAlHJe8",
        "outputId": "138e0fba-49e5-4fd4-c72d-4299a0777a9e"
      },
      "execution_count": null,
      "outputs": [
        {
          "output_type": "execute_result",
          "data": {
            "text/plain": [
              "11"
            ]
          },
          "metadata": {},
          "execution_count": 4
        }
      ]
    },
    {
      "cell_type": "code",
      "source": [
        "uppercase_greeting = greeting.upper"
      ],
      "metadata": {
        "id": "qZUPMKyRHgvj"
      },
      "execution_count": null,
      "outputs": []
    },
    {
      "cell_type": "code",
      "source": [
        "greeting.upper()"
      ],
      "metadata": {
        "colab": {
          "base_uri": "https://localhost:8080/",
          "height": 36
        },
        "id": "zqrzxwfdKXJZ",
        "outputId": "cb142bae-d883-4a30-df71-f0d39e1865b3"
      },
      "execution_count": null,
      "outputs": [
        {
          "output_type": "execute_result",
          "data": {
            "text/plain": [
              "'HELLO WORLD'"
            ],
            "application/vnd.google.colaboratory.intrinsic+json": {
              "type": "string"
            }
          },
          "metadata": {},
          "execution_count": 19
        }
      ]
    },
    {
      "cell_type": "code",
      "source": [
        "greeting.lower()"
      ],
      "metadata": {
        "colab": {
          "base_uri": "https://localhost:8080/",
          "height": 36
        },
        "id": "Nt0dNjkmKncM",
        "outputId": "887559ba-da4f-4a66-80d3-0a7d8bf4e843"
      },
      "execution_count": null,
      "outputs": [
        {
          "output_type": "execute_result",
          "data": {
            "text/plain": [
              "'hello world'"
            ],
            "application/vnd.google.colaboratory.intrinsic+json": {
              "type": "string"
            }
          },
          "metadata": {},
          "execution_count": 21
        }
      ]
    },
    {
      "cell_type": "code",
      "source": [
        "favourite_meal = 'ugali_beef'\n",
        "accompaniment = 'stoney'\n",
        "lunch = favourite_meal +\", \"+ accompaniment\n",
        "print(lunch)\n",
        "print (lunch, 2)"
      ],
      "metadata": {
        "colab": {
          "base_uri": "https://localhost:8080/"
        },
        "id": "Uf72Z0GzBROv",
        "outputId": "f9c61bfe-3423-44d2-bd25-6c1c5a970a65"
      },
      "execution_count": null,
      "outputs": [
        {
          "output_type": "stream",
          "name": "stdout",
          "text": [
            "ugali_beef, stoney\n",
            "ugali_beef, stoney 2\n"
          ]
        }
      ]
    },
    {
      "cell_type": "code",
      "source": [
        "name = 'Cyrus'\n",
        "age = 25\n",
        "print(f\"Hello, My name is {name} and I'm {age} years old.\")\n"
      ],
      "metadata": {
        "colab": {
          "base_uri": "https://localhost:8080/"
        },
        "id": "n8BhrgNx0Rfx",
        "outputId": "df7a56eb-663a-452a-8c67-5e30d3262623"
      },
      "execution_count": null,
      "outputs": [
        {
          "output_type": "stream",
          "name": "stdout",
          "text": [
            "Hello, My name is Cyrus and I'm 25 years old.\n"
          ]
        }
      ]
    },
    {
      "cell_type": "code",
      "source": [
        "\"Hello, My name is {} and I'm {} years old\". format(name, age)"
      ],
      "metadata": {
        "colab": {
          "base_uri": "https://localhost:8080/",
          "height": 36
        },
        "id": "VkUrhuDS2YxW",
        "outputId": "28722535-7a8b-4ae4-bea9-640b64e877f9"
      },
      "execution_count": null,
      "outputs": [
        {
          "output_type": "execute_result",
          "data": {
            "text/plain": [
              "\"Hello, My name is Cyrus and I'm 25 years old\""
            ],
            "application/vnd.google.colaboratory.intrinsic+json": {
              "type": "string"
            }
          },
          "metadata": {},
          "execution_count": 10
        }
      ]
    },
    {
      "cell_type": "code",
      "source": [
        "2 + 2"
      ],
      "metadata": {
        "colab": {
          "base_uri": "https://localhost:8080/"
        },
        "id": "KQtHWB_AuKFa",
        "outputId": "f5b42bf9-9dfd-496b-8da5-05411c05ea97"
      },
      "execution_count": null,
      "outputs": [
        {
          "output_type": "execute_result",
          "data": {
            "text/plain": [
              "4"
            ]
          },
          "metadata": {},
          "execution_count": 1
        }
      ]
    },
    {
      "cell_type": "code",
      "source": [
        "5/2"
      ],
      "metadata": {
        "colab": {
          "base_uri": "https://localhost:8080/"
        },
        "id": "ElTUjdn1uQ3I",
        "outputId": "49104ca3-f23d-4dac-93f2-8907725a1988"
      },
      "execution_count": null,
      "outputs": [
        {
          "output_type": "execute_result",
          "data": {
            "text/plain": [
              "2.5"
            ]
          },
          "metadata": {},
          "execution_count": 2
        }
      ]
    },
    {
      "cell_type": "code",
      "source": [
        "5//2"
      ],
      "metadata": {
        "colab": {
          "base_uri": "https://localhost:8080/"
        },
        "id": "L4lLPN0PuTl_",
        "outputId": "278354e2-3993-4b25-c691-e0cf1d32d0bc"
      },
      "execution_count": null,
      "outputs": [
        {
          "output_type": "execute_result",
          "data": {
            "text/plain": [
              "2"
            ]
          },
          "metadata": {},
          "execution_count": 3
        }
      ]
    },
    {
      "cell_type": "code",
      "source": [
        "10 % 3"
      ],
      "metadata": {
        "colab": {
          "base_uri": "https://localhost:8080/"
        },
        "id": "nVJVOaC7usmo",
        "outputId": "fddeee4c-1e5d-4f3a-f803-02641068607f"
      },
      "execution_count": null,
      "outputs": [
        {
          "output_type": "execute_result",
          "data": {
            "text/plain": [
              "1"
            ]
          },
          "metadata": {},
          "execution_count": 6
        }
      ]
    },
    {
      "cell_type": "code",
      "source": [
        "min_salary = 20_000\n",
        "max_salary = 80_000\n",
        "\n",
        "average_salary = (min_salary + max_salary) / 2\n",
        "average_salary"
      ],
      "metadata": {
        "colab": {
          "base_uri": "https://localhost:8080/"
        },
        "id": "RihrnjBQwfIx",
        "outputId": "a42ecf9b-16c7-4652-f652-e3bbef1a059c"
      },
      "execution_count": null,
      "outputs": [
        {
          "output_type": "execute_result",
          "data": {
            "text/plain": [
              "50000.0"
            ]
          },
          "metadata": {},
          "execution_count": 9
        }
      ]
    },
    {
      "cell_type": "code",
      "source": [
        "x, y, z = 1,2,3\n",
        "\n",
        "print(x)\n",
        "print(y)\n",
        "print(z)"
      ],
      "metadata": {
        "colab": {
          "base_uri": "https://localhost:8080/"
        },
        "id": "IjsyaZknxtjR",
        "outputId": "3bc8f360-e190-4812-889b-d592b6381489"
      },
      "execution_count": null,
      "outputs": [
        {
          "output_type": "stream",
          "name": "stdout",
          "text": [
            "1\n",
            "2\n",
            "3\n"
          ]
        }
      ]
    },
    {
      "cell_type": "code",
      "source": [
        "x = 1\n",
        "y = 2\n",
        "\n",
        "x, y = y, x # swap values\n",
        "\n",
        "print(\"x is now: \", x)\n",
        "print(\"y is now: \", y)"
      ],
      "metadata": {
        "colab": {
          "base_uri": "https://localhost:8080/"
        },
        "id": "sD_090sQzt2o",
        "outputId": "b9465467-002f-43c2-ef22-f3442a42e6c1"
      },
      "execution_count": null,
      "outputs": [
        {
          "output_type": "stream",
          "name": "stdout",
          "text": [
            "x is now:  2\n",
            "y is now:  1\n"
          ]
        }
      ]
    },
    {
      "cell_type": "code",
      "source": [
        "x = 1 # lets increment x by 1\n",
        "x = x + 1 # not pythonic\n",
        "x"
      ],
      "metadata": {
        "colab": {
          "base_uri": "https://localhost:8080/"
        },
        "id": "hSRMUPu_2jOu",
        "outputId": "ad91bb27-f225-4a5f-93b5-3374de115c21"
      },
      "execution_count": null,
      "outputs": [
        {
          "output_type": "execute_result",
          "data": {
            "text/plain": [
              "2"
            ]
          },
          "metadata": {},
          "execution_count": 16
        }
      ]
    },
    {
      "cell_type": "code",
      "source": [
        "text = \"Hello, Python World!\"\n",
        "words = text.split()\n",
        "extracted_word = words[1]\n",
        "print()\n",
        "extracted_word"
      ],
      "metadata": {
        "colab": {
          "base_uri": "https://localhost:8080/",
          "height": 53
        },
        "id": "v4v0V9Nc5Tw6",
        "outputId": "8b15f96f-7ea6-435f-d93d-30134ec2d4b0"
      },
      "execution_count": null,
      "outputs": [
        {
          "output_type": "stream",
          "name": "stdout",
          "text": [
            "\n"
          ]
        },
        {
          "output_type": "execute_result",
          "data": {
            "text/plain": [
              "'Python'"
            ],
            "application/vnd.google.colaboratory.intrinsic+json": {
              "type": "string"
            }
          },
          "metadata": {},
          "execution_count": 1
        }
      ]
    },
    {
      "cell_type": "code",
      "source": [
        "mpesa_balance = 1000\n",
        "if mpesa_balance > 65:\n",
        "  print (\"buy bread\")"
      ],
      "metadata": {
        "colab": {
          "base_uri": "https://localhost:8080/"
        },
        "id": "_epJjjMcErl3",
        "outputId": "72160b1d-b9a1-4714-8a15-c2a4d44f2b99"
      },
      "execution_count": null,
      "outputs": [
        {
          "output_type": "stream",
          "name": "stdout",
          "text": [
            "buy bread\n"
          ]
        }
      ]
    },
    {
      "cell_type": "code",
      "source": [
        "mpesa_balance = 65\n",
        "if mpesa_balance > 65:\n",
        "  print (\"buy bread\")\n",
        "else :\n",
        "  print (\"access fuliza\")"
      ],
      "metadata": {
        "colab": {
          "base_uri": "https://localhost:8080/"
        },
        "id": "b73NxGPoHd_c",
        "outputId": "37e24b70-0a99-40f1-b736-989b13fa8ba8"
      },
      "execution_count": null,
      "outputs": [
        {
          "output_type": "stream",
          "name": "stdout",
          "text": [
            "access fuliza\n"
          ]
        }
      ]
    },
    {
      "cell_type": "code",
      "source": [
        "mpesa_balance = 65\n",
        "if mpesa_balance > 65:\n",
        "  print (\"buy bread\")\n",
        "elif mpesa_balance > 20 :\n",
        "  print (\"buy mandazi\")\n",
        "else :\n",
        "  print (\"access fuliza\")"
      ],
      "metadata": {
        "colab": {
          "base_uri": "https://localhost:8080/"
        },
        "id": "lXyB-bZpIUIT",
        "outputId": "8be34c64-6c0a-46cc-9220-40a54cd0a18b"
      },
      "execution_count": null,
      "outputs": [
        {
          "output_type": "stream",
          "name": "stdout",
          "text": [
            "buy mandazi\n"
          ]
        }
      ]
    },
    {
      "cell_type": "code",
      "source": [
        "mpesa_balance = 30\n",
        "if mpesa_balance > 65:\n",
        "  print (\"buy bread\")\n",
        "elif mpesa_balance > 20 :\n",
        "  print (\"buy mandazi\")\n",
        "else :\n",
        "  print (\"access fuliza\")"
      ],
      "metadata": {
        "colab": {
          "base_uri": "https://localhost:8080/"
        },
        "id": "Dk0Y5bYRIclq",
        "outputId": "e4968cab-23d2-4f04-a34c-ee252617a15b"
      },
      "execution_count": null,
      "outputs": [
        {
          "output_type": "stream",
          "name": "stdout",
          "text": [
            "buy mandazi\n"
          ]
        }
      ]
    },
    {
      "cell_type": "code",
      "source": [
        "mpesa_balance = 19\n",
        "if mpesa_balance > 65:\n",
        "  print (\"buy bread\")\n",
        "elif mpesa_balance > 20 :\n",
        "  print (\"buy mandazi\")\n",
        "else :\n",
        "  print (\"access fuliza\")"
      ],
      "metadata": {
        "colab": {
          "base_uri": "https://localhost:8080/"
        },
        "id": "FdvBTUPQJIzz",
        "outputId": "d4383ed2-e803-4e29-8ac9-4bf75520602b"
      },
      "execution_count": null,
      "outputs": [
        {
          "output_type": "stream",
          "name": "stdout",
          "text": [
            "access fuliza\n"
          ]
        }
      ]
    },
    {
      "cell_type": "code",
      "source": [
        "passmark = 70\n",
        "grade = 54\n",
        "if grade > passmark:\n",
        "  print (\"pass\")\n",
        "else:\n",
        "  print (\"fail\")"
      ],
      "metadata": {
        "colab": {
          "base_uri": "https://localhost:8080/"
        },
        "id": "Q1hvMOoBLBhb",
        "outputId": "ab82d4e3-b93a-416f-eaa4-c00d7fa87826"
      },
      "execution_count": null,
      "outputs": [
        {
          "output_type": "stream",
          "name": "stdout",
          "text": [
            "fail\n"
          ]
        }
      ]
    },
    {
      "cell_type": "code",
      "source": [
        "if 10 < 5:\n",
        "  print(\"Whats up data nerds\")\n",
        "else:\n",
        "  print(\"Hey data nerds\")"
      ],
      "metadata": {
        "colab": {
          "base_uri": "https://localhost:8080/"
        },
        "id": "RM2OhVkvFs0n",
        "outputId": "362aab4d-d73b-4c2c-90e4-7d017c9b792e"
      },
      "execution_count": null,
      "outputs": [
        {
          "output_type": "stream",
          "name": "stdout",
          "text": [
            "Hey data nerds\n"
          ]
        }
      ]
    },
    {
      "cell_type": "code",
      "source": [
        "if 10 > 5:\n",
        "  print(\"Whats up data nerds\")\n",
        "else:\n",
        "  print(\"Hey data nerds\")"
      ],
      "metadata": {
        "colab": {
          "base_uri": "https://localhost:8080/"
        },
        "id": "V0e8Le0kGUtf",
        "outputId": "4fe37e7b-de90-4c37-bc2e-dbf1c7f170be"
      },
      "execution_count": null,
      "outputs": [
        {
          "output_type": "stream",
          "name": "stdout",
          "text": [
            "Whats up data nerds\n"
          ]
        }
      ]
    },
    {
      "cell_type": "code",
      "source": [
        "applicant_skill = 'sql'\n",
        "job_skill = 'sql'"
      ],
      "metadata": {
        "id": "6HI3MnXlI18x"
      },
      "execution_count": null,
      "outputs": []
    },
    {
      "cell_type": "code",
      "source": [
        "applicant_skill = 'sql'\n",
        "job_skill = 'sql'\n",
        "\n",
        "if applicant_skill == job_skill:\n",
        "  result = 'skill match'"
      ],
      "metadata": {
        "id": "abmMwJezI3K6"
      },
      "execution_count": null,
      "outputs": []
    },
    {
      "cell_type": "code",
      "source": [
        "if applicant_skill == job_skill:\n",
        "  result = 'skill match'"
      ],
      "metadata": {
        "id": "FskAgcJsJWK3"
      },
      "execution_count": null,
      "outputs": []
    },
    {
      "cell_type": "code",
      "source": [
        "age = 19\n",
        "\n",
        "if age < 13:\n",
        "  print (\"You can go to the park.\")\n",
        "elif 13 <= age < 18:\n",
        "  print (\"You can join a teen club.\")\n",
        "else:\n",
        "  print (\"You can apply for a driving license.\")"
      ],
      "metadata": {
        "colab": {
          "base_uri": "https://localhost:8080/"
        },
        "id": "Yx9IZryXQqKJ",
        "outputId": "03a9a432-78eb-4c74-dfe4-d27234fbbccb"
      },
      "execution_count": null,
      "outputs": [
        {
          "output_type": "stream",
          "name": "stdout",
          "text": [
            "You can apply for a driving license.\n"
          ]
        }
      ]
    },
    {
      "cell_type": "code",
      "source": [
        "grade = 65\n",
        "if grade >80:\n",
        "  print (\"A\")\n",
        "elif 60 < grade <=80:\n",
        "  print (\"B\")\n",
        "elif 40 < grade <=60:\n",
        "  print (\"C\")\n",
        "else:\n",
        "  print (\"D\")"
      ],
      "metadata": {
        "id": "JUFUNvgjIjHh",
        "colab": {
          "base_uri": "https://localhost:8080/"
        },
        "outputId": "5a85c6b1-970b-4e29-925b-76aefb0bf98d"
      },
      "execution_count": null,
      "outputs": [
        {
          "output_type": "stream",
          "name": "stdout",
          "text": [
            "B\n"
          ]
        }
      ]
    },
    {
      "cell_type": "code",
      "source": [
        "9//2"
      ],
      "metadata": {
        "id": "pmOQlXPdnUwM",
        "outputId": "30bd505c-4d87-4f4a-8159-f16b8dba2347",
        "colab": {
          "base_uri": "https://localhost:8080/"
        }
      },
      "execution_count": null,
      "outputs": [
        {
          "output_type": "execute_result",
          "data": {
            "text/plain": [
              "4"
            ]
          },
          "metadata": {},
          "execution_count": 1
        }
      ]
    },
    {
      "cell_type": "code",
      "source": [
        "book = {\n",
        "    'title': 'How to BEAT your WIFE II',\n",
        "    'author': 'Steve Ogan',\n",
        "    'publication_year': 2006\n",
        "}"
      ],
      "metadata": {
        "id": "hNzeTyCRzsru"
      },
      "execution_count": null,
      "outputs": []
    },
    {
      "cell_type": "code",
      "source": [
        "print(book['title'])  # Output: How to BEAT your WIFE II"
      ],
      "metadata": {
        "colab": {
          "base_uri": "https://localhost:8080/"
        },
        "id": "xzJLwPvLz233",
        "outputId": "87fc4a6a-01e2-4c00-b436-75345fa9dd40"
      },
      "execution_count": null,
      "outputs": [
        {
          "output_type": "stream",
          "name": "stdout",
          "text": [
            "How to BEAT your WIFE II\n"
          ]
        }
      ]
    },
    {
      "cell_type": "code",
      "source": [
        "book['genre'] = 'Fiction'"
      ],
      "metadata": {
        "id": "bUE0f9BEz7o2"
      },
      "execution_count": null,
      "outputs": []
    },
    {
      "cell_type": "code",
      "source": [
        "book.pop('publication_year')"
      ],
      "metadata": {
        "colab": {
          "base_uri": "https://localhost:8080/"
        },
        "id": "NoNyN0cEz-61",
        "outputId": "734d071c-70dd-4d55-ae82-09fbd18c5a3a"
      },
      "execution_count": null,
      "outputs": [
        {
          "output_type": "execute_result",
          "data": {
            "text/plain": [
              "2006"
            ]
          },
          "metadata": {},
          "execution_count": 4
        }
      ]
    },
    {
      "cell_type": "code",
      "source": [
        "if 'author' in book:\n",
        "    print(\"Author is present.\")  # Output: Author is present.\n",
        "else:\n",
        "    print(\"Author is not present.\")"
      ],
      "metadata": {
        "colab": {
          "base_uri": "https://localhost:8080/"
        },
        "id": "bFENNT3_0Ctv",
        "outputId": "4f7db4b6-e4e3-476c-b688-12a5f1406627"
      },
      "execution_count": null,
      "outputs": [
        {
          "output_type": "stream",
          "name": "stdout",
          "text": [
            "Author is present.\n"
          ]
        }
      ]
    },
    {
      "cell_type": "code",
      "source": [
        "for key, value in book.items():\n",
        "    print(f'{key}: {value}')\n"
      ],
      "metadata": {
        "colab": {
          "base_uri": "https://localhost:8080/"
        },
        "id": "ZozL2LDj0Oml",
        "outputId": "29050cdc-d5bc-4bbe-c258-3d1fe9a89e11"
      },
      "execution_count": null,
      "outputs": [
        {
          "output_type": "stream",
          "name": "stdout",
          "text": [
            "title: How to BEAT your WIFE II\n",
            "author: Steve Ogan\n",
            "genre: Fiction\n"
          ]
        }
      ]
    },
    {
      "cell_type": "code",
      "source": [
        "person = {\n",
        "    'name': 'Cyrus',\n",
        "    'age': 27,\n",
        "    'hobbies': ['skating', 'cycling', 'swimming']\n",
        "}\n",
        "\n",
        "#Access and print the person's hobbies:\n",
        "\n",
        "print(person['hobbies'])  # Output: ['skating', 'cycling', 'swimming']"
      ],
      "metadata": {
        "colab": {
          "base_uri": "https://localhost:8080/"
        },
        "id": "zuNpehvx1N5i",
        "outputId": "182db44f-8588-4867-ae06-768aeb43ef53"
      },
      "execution_count": null,
      "outputs": [
        {
          "output_type": "stream",
          "name": "stdout",
          "text": [
            "['skating', 'cycling', 'swimming']\n"
          ]
        }
      ]
    },
    {
      "cell_type": "code",
      "source": [
        "print ('Very important! \\nVery important! \\nVery important! \\n')"
      ],
      "metadata": {
        "colab": {
          "base_uri": "https://localhost:8080/"
        },
        "id": "Tz5toXfXz3oN",
        "outputId": "e6eb9cbe-dd67-4f3b-f782-edaf65f3f892"
      },
      "execution_count": null,
      "outputs": [
        {
          "output_type": "stream",
          "name": "stdout",
          "text": [
            "Very important! \n",
            "Very important! \n",
            "Very important! \n",
            "\n"
          ]
        }
      ]
    },
    {
      "cell_type": "code",
      "source": [
        "print (\"Hello\"+\"Gomycode\")"
      ],
      "metadata": {
        "colab": {
          "base_uri": "https://localhost:8080/"
        },
        "id": "hvh50MAU2E0m",
        "outputId": "4c309af0-680f-451b-a94f-0f49d1ba3bc8"
      },
      "execution_count": null,
      "outputs": [
        {
          "output_type": "stream",
          "name": "stdout",
          "text": [
            "HelloGomycode\n"
          ]
        }
      ]
    },
    {
      "cell_type": "code",
      "source": [
        "print (\"Hello\"+\" \"+\"Gomycode\")"
      ],
      "metadata": {
        "colab": {
          "base_uri": "https://localhost:8080/"
        },
        "id": "VEwOQTvC20m-",
        "outputId": "72110d43-762e-4f85-be9e-632a82713465"
      },
      "execution_count": null,
      "outputs": [
        {
          "output_type": "stream",
          "name": "stdout",
          "text": [
            "Hello Gomycode\n"
          ]
        }
      ]
    },
    {
      "cell_type": "code",
      "source": [
        "input (\"What's your name\")"
      ],
      "metadata": {
        "colab": {
          "base_uri": "https://localhost:8080/",
          "height": 53
        },
        "id": "8FncYNeC4APD",
        "outputId": "29f787d2-b6f3-4d59-8e88-8a06093f072b"
      },
      "execution_count": null,
      "outputs": [
        {
          "name": "stdout",
          "output_type": "stream",
          "text": [
            "What's your nameCyrus\n"
          ]
        },
        {
          "output_type": "execute_result",
          "data": {
            "text/plain": [
              "'Cyrus'"
            ],
            "application/vnd.google.colaboratory.intrinsic+json": {
              "type": "string"
            }
          },
          "metadata": {},
          "execution_count": 15
        }
      ]
    },
    {
      "cell_type": "code",
      "source": [
        "print (\"Hello\"+ input (\"What's your name\"))"
      ],
      "metadata": {
        "colab": {
          "base_uri": "https://localhost:8080/"
        },
        "id": "BbRqKfJH4bnC",
        "outputId": "35a236ee-4620-49d3-cd45-17862bffc755"
      },
      "execution_count": null,
      "outputs": [
        {
          "output_type": "stream",
          "name": "stdout",
          "text": [
            "What's your nameCyrus\n",
            "HelloCyrus\n"
          ]
        }
      ]
    },
    {
      "cell_type": "code",
      "source": [
        "print(\"Day 1 - String Manipulation\")\n",
        "print(\"String Concatenation is done with the \"\"+\"\" sign.\")\n",
        "print('e.g. print(\"Hello \" + \"world\")')\n",
        "print((\"New lines can be created with a backslash and n.\"))"
      ],
      "metadata": {
        "colab": {
          "base_uri": "https://localhost:8080/"
        },
        "id": "xlPoXy-Z-tkU",
        "outputId": "55f5d983-4118-4cb0-e74c-6d87c66c775d"
      },
      "execution_count": null,
      "outputs": [
        {
          "output_type": "stream",
          "name": "stdout",
          "text": [
            "Day 1 - String Manipulation\n",
            "String Concatenation is done with the + sign.\n",
            "e.g. print(\"Hello \" + \"world\")\n",
            "New lines can be created with a backslash and n.\n"
          ]
        }
      ]
    },
    {
      "cell_type": "code",
      "source": [
        "num = 3\n",
        "if num > 0:\n",
        "\tprint(num, \"is a positive number.\")\n",
        "\tprint(\"This is always printed.\")"
      ],
      "metadata": {
        "colab": {
          "base_uri": "https://localhost:8080/"
        },
        "id": "-HXTyDrDC6Ea",
        "outputId": "f508bfc9-1b25-4e72-d7da-0ac49f80307c"
      },
      "execution_count": null,
      "outputs": [
        {
          "output_type": "stream",
          "name": "stdout",
          "text": [
            "3 is a positive number.\n",
            "This is always printed.\n"
          ]
        }
      ]
    },
    {
      "cell_type": "code",
      "source": [
        "x=10\n",
        "if x==1:\n",
        "      print('X is equal to 1')\n",
        "elif x==5:\n",
        "      print('X is equal to 5')\n",
        "elif x==10:\n",
        "      print('X is equal to 10')\n",
        "else:\n",
        "      print('X =', x)"
      ],
      "metadata": {
        "colab": {
          "base_uri": "https://localhost:8080/"
        },
        "id": "IJtS_g7mFOO4",
        "outputId": "fcfab283-fc47-4870-89ca-a63bfd4ec77d"
      },
      "execution_count": null,
      "outputs": [
        {
          "output_type": "stream",
          "name": "stdout",
          "text": [
            "X is equal to 10\n"
          ]
        }
      ]
    },
    {
      "cell_type": "code",
      "source": [
        "age = 16\n",
        "if age > 18:\n",
        "  print (\"Eligible to Vote!\")\n",
        "else:\n",
        "  print (\"Not Eligble\")"
      ],
      "metadata": {
        "colab": {
          "base_uri": "https://localhost:8080/"
        },
        "id": "cZN6EH9UGc0m",
        "outputId": "74f358fd-80ab-4d24-aeae-9ea8d56c400d"
      },
      "execution_count": null,
      "outputs": [
        {
          "output_type": "stream",
          "name": "stdout",
          "text": [
            "Not Eligble\n"
          ]
        }
      ]
    },
    {
      "cell_type": "code",
      "source": [
        "engine_size = 4600\n",
        "if engine_size <1200:\n",
        "  print (\"Dudu Car\")\n",
        "elif 1200 >= engine_size <2500:\n",
        "  print (\"Average Machine\")\n",
        "elif 2500 >= engine_size <3500:\n",
        "  print (\"Good Machine\")\n",
        "else:\n",
        "  print (\"Beast\")"
      ],
      "metadata": {
        "colab": {
          "base_uri": "https://localhost:8080/"
        },
        "id": "P5PQABGBHBas",
        "outputId": "ddc7b105-13a1-47c7-8dfa-579fee408aa6"
      },
      "execution_count": null,
      "outputs": [
        {
          "output_type": "stream",
          "name": "stdout",
          "text": [
            "Beast\n"
          ]
        }
      ]
    },
    {
      "cell_type": "code",
      "source": [
        "order_total = 150\n",
        "customer_membership = True\n",
        "\n",
        "if order_total >= 100 and customer_membership == True:\n",
        "    print(\"Discount applied.\")\n",
        "else:\n",
        "    print(\"Discount not applied.\")"
      ],
      "metadata": {
        "colab": {
          "base_uri": "https://localhost:8080/"
        },
        "id": "VU7gxNH1gfOd",
        "outputId": "fa3ba243-c59a-4be3-cfeb-5ebc7a82dd7f"
      },
      "execution_count": null,
      "outputs": [
        {
          "output_type": "stream",
          "name": "stdout",
          "text": [
            "Discount not applied.\n"
          ]
        }
      ]
    },
    {
      "cell_type": "code",
      "source": [
        "order_total = 75\n",
        "customer_location = \"USA\"\n",
        "\n",
        "if order_total >= 50 or customer_location == \"USA\":\n",
        "    print(\"Free shipping applied.\")\n",
        "else:\n",
        "    print(\"Shipping fee applied.\")"
      ],
      "metadata": {
        "colab": {
          "base_uri": "https://localhost:8080/"
        },
        "id": "PhBEHYL6ifBD",
        "outputId": "2a0933f5-2822-4223-f54c-8aca77c49a0e"
      },
      "execution_count": null,
      "outputs": [
        {
          "output_type": "stream",
          "name": "stdout",
          "text": [
            "Shipping fee applied.\n"
          ]
        }
      ]
    },
    {
      "cell_type": "code",
      "source": [
        "is_member = False\n",
        "\n",
        "if not is_member:\n",
        "    print(\"Customer is not a member.\")\n",
        "else:\n",
        "    print(\"Customer is a member.\")"
      ],
      "metadata": {
        "colab": {
          "base_uri": "https://localhost:8080/"
        },
        "id": "rpVHPtQLRYYx",
        "outputId": "1c1126c1-e0bf-498c-cfa7-e4b0f7f85442"
      },
      "execution_count": null,
      "outputs": [
        {
          "output_type": "stream",
          "name": "stdout",
          "text": [
            "Customer is not a member.\n"
          ]
        }
      ]
    },
    {
      "cell_type": "code",
      "source": [
        "number = int(input(\"Enter a number: \"))\n",
        "\n",
        "# Check if the number is even or odd\n",
        "if number % 2 == 0:\n",
        "    print(f\"{number} is an even number.\")\n",
        "else:\n",
        "    print(f\"{number} is an odd number.\")"
      ],
      "metadata": {
        "colab": {
          "base_uri": "https://localhost:8080/"
        },
        "id": "cZgd4sPPR62m",
        "outputId": "8d972c7b-d6d9-4fa8-abb1-3f7d47e75276"
      },
      "execution_count": null,
      "outputs": [
        {
          "output_type": "stream",
          "name": "stdout",
          "text": [
            "Enter a number: 22\n",
            "22 is an even number.\n"
          ]
        }
      ]
    },
    {
      "cell_type": "code",
      "source": [
        "age = int(input (\"Enter your age\"))\n",
        "if age < 18:\n",
        "  print (f\"{age} is still a minor.\")\n",
        "else:\n",
        "  print (f\"{age}) can join the club.\")"
      ],
      "metadata": {
        "colab": {
          "base_uri": "https://localhost:8080/"
        },
        "id": "SzZeFwCHUAgZ",
        "outputId": "ae24f5b3-ddc3-4a23-e068-cf1e5d7a5f80"
      },
      "execution_count": null,
      "outputs": [
        {
          "output_type": "stream",
          "name": "stdout",
          "text": [
            "Enter your age12\n",
            "12 is still a minor.\n"
          ]
        }
      ]
    },
    {
      "cell_type": "code",
      "source": [
        "age = int(input (\"Enter your age\"))\n",
        "if age < 18:\n",
        "  print (f\"{age} is still a minor.\")\n",
        "else:\n",
        "  print (f\"{age} can join the club.\")"
      ],
      "metadata": {
        "colab": {
          "base_uri": "https://localhost:8080/"
        },
        "id": "1k2FTGApVM-2",
        "outputId": "0cf65384-a47b-4ff3-c48b-5896d6c4193c"
      },
      "execution_count": null,
      "outputs": [
        {
          "output_type": "stream",
          "name": "stdout",
          "text": [
            "Enter your age27\n",
            "27 can join the club.\n"
          ]
        }
      ]
    },
    {
      "cell_type": "code",
      "source": [
        "# Input: Ask the user to enter a number\n",
        "number = int(input(\"Enter a number: \"))\n",
        "\n",
        "# Check if the number is divisible by 2 and greater than 10\n",
        "if number % 2 == 0 and number > 10:\n",
        "    print(f\"{number} is divisible by 2 and greater than 10.\")\n",
        "else:\n",
        "    print(f\"{number} does not meet both conditions (divisible by 2 and greater than 10).\")"
      ],
      "metadata": {
        "colab": {
          "base_uri": "https://localhost:8080/"
        },
        "id": "jBM_57PGV3mV",
        "outputId": "94ce8c7e-c92b-4526-96a4-a3be579f9c01"
      },
      "execution_count": null,
      "outputs": [
        {
          "output_type": "stream",
          "name": "stdout",
          "text": [
            "Enter a number: 32\n",
            "32 is divisible by 2 and greater than 10.\n"
          ]
        }
      ]
    },
    {
      "cell_type": "code",
      "source": [
        "# Input: Ask the user to enter a number\n",
        "number = int(input(\"Enter a number: \"))\n",
        "\n",
        "# Check if the number is divisible by 2 and greater than 10\n",
        "if number % 2 == 0 and number > 10:\n",
        "    print(f\"{number} is divisible by 2 and greater than 10.\")\n",
        "else:\n",
        "    print(f\"{number} does not meet both conditions (divisible by 2 and greater than 10).\")"
      ],
      "metadata": {
        "colab": {
          "base_uri": "https://localhost:8080/"
        },
        "id": "Rs8JhVOhWFR8",
        "outputId": "75ae04c0-cd11-4924-cf1a-ecb46c0156c3"
      },
      "execution_count": null,
      "outputs": [
        {
          "output_type": "stream",
          "name": "stdout",
          "text": [
            "Enter a number: 25\n",
            "25 does not meet both conditions (divisible by 2 and greater than 10).\n"
          ]
        }
      ]
    },
    {
      "cell_type": "code",
      "source": [
        "# Input: Ask the user to enter a number\n",
        "number = int(input(\"Enter a number: \"))\n",
        "\n",
        "# Check if the number is divisible by 2 and greater than 10\n",
        "if number % 2 == 0 and number > 10:\n",
        "    print(f\"{number} is divisible by 2 and greater than 10.\")\n",
        "else:\n",
        "    print(f\"{number} does not meet both conditions (divisible by 2 and greater than 10).\")"
      ],
      "metadata": {
        "colab": {
          "base_uri": "https://localhost:8080/"
        },
        "id": "G2hOsmv5WMS0",
        "outputId": "3c389ef4-97ff-4937-83dc-278654095d7c"
      },
      "execution_count": null,
      "outputs": [
        {
          "output_type": "stream",
          "name": "stdout",
          "text": [
            "Enter a number: 9\n",
            "9 does not meet both conditions (divisible by 2 and greater than 10).\n"
          ]
        }
      ]
    },
    {
      "cell_type": "code",
      "source": [
        "# Input: Ask the user to enter a number\n",
        "number = int(input(\"Enter a number: \"))\n",
        "\n",
        "# Check if the number is divisible by 2 or greater than 10\n",
        "if number % 2 == 0 or number > 10:\n",
        "    print(f\"{number} is either divisible by 2 or greater than 10 (or both).\")\n",
        "else:\n",
        "    print(f\"{number} is neither divisible by 2 nor greater than 10.\")"
      ],
      "metadata": {
        "colab": {
          "base_uri": "https://localhost:8080/"
        },
        "id": "9X_le2m6WYlc",
        "outputId": "0667f92e-7f38-48c9-9104-c0e5f51f7cdb"
      },
      "execution_count": null,
      "outputs": [
        {
          "output_type": "stream",
          "name": "stdout",
          "text": [
            "Enter a number: 27\n",
            "27 is either divisible by 2 or greater than 10 (or both).\n"
          ]
        }
      ]
    },
    {
      "cell_type": "code",
      "source": [
        "# Input: Ask the user to enter a number\n",
        "number = int(input(\"Enter a number: \"))\n",
        "\n",
        "# Check if the number is divisible by 2 or greater than 10\n",
        "if number % 2 == 0 or number > 10:\n",
        "    print(f\"{number} is either divisible by 2 or greater than 10 (or both).\")\n",
        "else:\n",
        "    print(f\"{number} is neither divisible by 2 nor greater than 10.\")"
      ],
      "metadata": {
        "colab": {
          "base_uri": "https://localhost:8080/"
        },
        "id": "HWrxKxS7W64F",
        "outputId": "a0ad86fc-6ae5-4fac-d7e8-41fb2e9b059f"
      },
      "execution_count": null,
      "outputs": [
        {
          "output_type": "stream",
          "name": "stdout",
          "text": [
            "Enter a number: 7\n",
            "7 is neither divisible by 2 nor greater than 10.\n"
          ]
        }
      ]
    },
    {
      "cell_type": "code",
      "source": [
        "x = (2>5) == (3==6)\n",
        "if x :\n",
        "    print('x is True')\n",
        "else:\n",
        "    prin('x is not True')"
      ],
      "metadata": {
        "colab": {
          "base_uri": "https://localhost:8080/"
        },
        "id": "vipnezvJXtd9",
        "outputId": "8625f022-cdac-42ec-e7ec-14ffa25f0885"
      },
      "execution_count": null,
      "outputs": [
        {
          "output_type": "stream",
          "name": "stdout",
          "text": [
            "x is True\n"
          ]
        }
      ]
    },
    {
      "cell_type": "code",
      "source": [
        "x=19\n",
        "if x < 10:\n",
        "    print (\"Good morning\")\n",
        "elif x<12:\n",
        "    print (\"Soon time for lunch\")\n",
        "elif x<18:\n",
        "    print (\"Good day\")\n",
        "elif x<22:\n",
        "    print (\"Good evening\")\n",
        "else:\n",
        "    print (\"Good night\")"
      ],
      "metadata": {
        "colab": {
          "base_uri": "https://localhost:8080/"
        },
        "id": "4UwUeHgWYFnq",
        "outputId": "5b0ad8f1-9923-49b2-833f-072b0b51a482"
      },
      "execution_count": null,
      "outputs": [
        {
          "output_type": "stream",
          "name": "stdout",
          "text": [
            "Good evening\n"
          ]
        }
      ]
    },
    {
      "cell_type": "code",
      "source": [
        "print (2*2)"
      ],
      "metadata": {
        "colab": {
          "base_uri": "https://localhost:8080/"
        },
        "id": "cLcc3CxiZNm2",
        "outputId": "e5249341-0afc-4588-8229-f492c7277739"
      },
      "execution_count": null,
      "outputs": [
        {
          "output_type": "stream",
          "name": "stdout",
          "text": [
            "4\n"
          ]
        }
      ]
    },
    {
      "cell_type": "code",
      "source": [
        "print (4**4)"
      ],
      "metadata": {
        "colab": {
          "base_uri": "https://localhost:8080/"
        },
        "id": "_3TK-QjwZUoe",
        "outputId": "2ba9dedf-cc17-4beb-aeda-33706baa483a"
      },
      "execution_count": null,
      "outputs": [
        {
          "output_type": "stream",
          "name": "stdout",
          "text": [
            "256\n"
          ]
        }
      ]
    },
    {
      "cell_type": "code",
      "source": [
        "score = 15\n",
        "print(f\"Your score is {score}\")"
      ],
      "metadata": {
        "colab": {
          "base_uri": "https://localhost:8080/"
        },
        "id": "r1uoHa4qjORZ",
        "outputId": "7fee077f-805b-47a8-e13e-de6cb1e61444"
      },
      "execution_count": null,
      "outputs": [
        {
          "output_type": "stream",
          "name": "stdout",
          "text": [
            "Your score is 15\n"
          ]
        }
      ]
    },
    {
      "cell_type": "code",
      "source": [
        "def print_age():\n",
        "    name = \"Mary\"\n",
        "    age = 35\n",
        "    print(f\"{name} is {age} years old.\")\n",
        "\n",
        "# Call the function\n",
        "print_age()"
      ],
      "metadata": {
        "colab": {
          "base_uri": "https://localhost:8080/"
        },
        "id": "lO4Zav7QlxI5",
        "outputId": "18cb4c94-8fa7-466d-884a-a479ab9c26c0"
      },
      "execution_count": null,
      "outputs": [
        {
          "output_type": "stream",
          "name": "stdout",
          "text": [
            "Mary is 35 years old.\n"
          ]
        }
      ]
    },
    {
      "cell_type": "code",
      "source": [
        "def print_grade():\n",
        "    name = \"John\"\n",
        "    grade = 6\n",
        "    print(f\"{name} is in grade{grade}.\")\n",
        "\n",
        "    print_grade()"
      ],
      "metadata": {
        "id": "2V24zAKAncBo"
      },
      "execution_count": null,
      "outputs": []
    },
    {
      "cell_type": "code",
      "source": [
        "# Input: Ask the user to enter their current age\n",
        "current_age = int(input(\"What is your current age? \"))\n",
        "\n",
        "# Constants\n",
        "max_age = 90\n",
        "days_in_a_year = 365\n",
        "weeks_in_a_year = 52\n",
        "months_in_a_year = 12\n",
        "\n",
        "# Calculations\n",
        "years_left = max_age - current_age\n",
        "days_left = years_left * days_in_a_year\n",
        "weeks_left = years_left * weeks_in_a_year\n",
        "months_left = years_left * months_in_a_year\n",
        "\n",
        "# Output using f-strings\n",
        "print(f\"You have {days_left} days, {weeks_left} weeks, and {months_left} months left.\")"
      ],
      "metadata": {
        "colab": {
          "base_uri": "https://localhost:8080/"
        },
        "id": "wIdFWgempr6c",
        "outputId": "a6d57922-e6d0-4c33-8b68-d7c3fc8b1897"
      },
      "execution_count": null,
      "outputs": [
        {
          "output_type": "stream",
          "name": "stdout",
          "text": [
            "What is your current age? 37\n",
            "You have 19345 days, 2756 weeks, and 636 months left.\n"
          ]
        }
      ]
    },
    {
      "cell_type": "code",
      "source": [
        "l=[9, 13, 2]\n",
        "for i in l:\n",
        "  print(i)"
      ],
      "metadata": {
        "colab": {
          "base_uri": "https://localhost:8080/"
        },
        "id": "SNrPg1cFrBo0",
        "outputId": "b6fee338-031a-4aef-9786-522a1c06e328"
      },
      "execution_count": null,
      "outputs": [
        {
          "output_type": "stream",
          "name": "stdout",
          "text": [
            "9\n",
            "13\n",
            "2\n"
          ]
        }
      ]
    },
    {
      "cell_type": "code",
      "source": [
        "input (\"Whats your name\")"
      ],
      "metadata": {
        "colab": {
          "base_uri": "https://localhost:8080/",
          "height": 53
        },
        "id": "vx7pKEqosOCD",
        "outputId": "df654f38-2f88-4b5c-dabf-a5742c4fee41"
      },
      "execution_count": null,
      "outputs": [
        {
          "name": "stdout",
          "output_type": "stream",
          "text": [
            "Whats your namecyrus\n"
          ]
        },
        {
          "output_type": "execute_result",
          "data": {
            "text/plain": [
              "'cyrus'"
            ],
            "application/vnd.google.colaboratory.intrinsic+json": {
              "type": "string"
            }
          },
          "metadata": {},
          "execution_count": 52
        }
      ]
    },
    {
      "cell_type": "code",
      "source": [
        "name = input (\"Whats your name\")\n",
        "print(name)"
      ],
      "metadata": {
        "colab": {
          "base_uri": "https://localhost:8080/"
        },
        "id": "GpA1Pr8psoKi",
        "outputId": "8c6132cb-d583-458d-f04b-18bd4fdd9def"
      },
      "execution_count": null,
      "outputs": [
        {
          "output_type": "stream",
          "name": "stdout",
          "text": [
            "Whats your namecyrus\n",
            "cyrus\n"
          ]
        }
      ]
    },
    {
      "cell_type": "code",
      "source": [
        "name = \"Cyrus\"\n",
        "print(name)"
      ],
      "metadata": {
        "colab": {
          "base_uri": "https://localhost:8080/"
        },
        "id": "FYt0mWCHtMXJ",
        "outputId": "2d3e4ff4-6768-4830-82fb-2d3e11b5774b"
      },
      "execution_count": null,
      "outputs": [
        {
          "output_type": "stream",
          "name": "stdout",
          "text": [
            "Cyrus\n"
          ]
        }
      ]
    },
    {
      "cell_type": "code",
      "source": [
        "a, b, c = 5, 3.2, \"Hello\"\n",
        "print (a)\n",
        "print (b)\n",
        "print (c)"
      ],
      "metadata": {
        "colab": {
          "base_uri": "https://localhost:8080/"
        },
        "id": "_2VfP152udCb",
        "outputId": "2d73ba8a-2366-4a1b-c741-95c251f2ced8"
      },
      "execution_count": null,
      "outputs": [
        {
          "output_type": "stream",
          "name": "stdout",
          "text": [
            "5\n",
            "3.2\n",
            "Hello\n"
          ]
        }
      ]
    },
    {
      "cell_type": "code",
      "source": [
        "x = y = z = \"same\"\n",
        "\n",
        "print (x)\n",
        "print (y)\n",
        "print (z)"
      ],
      "metadata": {
        "colab": {
          "base_uri": "https://localhost:8080/"
        },
        "id": "zM4Jx6RpumI2",
        "outputId": "929899a8-2dca-4cc8-e6e2-97530a044e12"
      },
      "execution_count": null,
      "outputs": [
        {
          "output_type": "stream",
          "name": "stdout",
          "text": [
            "same\n",
            "same\n",
            "same\n"
          ]
        }
      ]
    },
    {
      "cell_type": "code",
      "source": [
        "x=\"me\"\n",
        "print(type(x))"
      ],
      "metadata": {
        "colab": {
          "base_uri": "https://localhost:8080/"
        },
        "id": "3PMFI717utBP",
        "outputId": "be2e6f9a-48d5-4675-9455-02f978edd277"
      },
      "execution_count": null,
      "outputs": [
        {
          "output_type": "stream",
          "name": "stdout",
          "text": [
            "<class 'str'>\n"
          ]
        }
      ]
    },
    {
      "cell_type": "code",
      "source": [
        "x=7\n",
        "print(type(x))"
      ],
      "metadata": {
        "colab": {
          "base_uri": "https://localhost:8080/"
        },
        "id": "5wDb2opwuzl5",
        "outputId": "32098c5d-3d24-470f-8762-3c67fd7deaec"
      },
      "execution_count": null,
      "outputs": [
        {
          "output_type": "stream",
          "name": "stdout",
          "text": [
            "<class 'int'>\n"
          ]
        }
      ]
    },
    {
      "cell_type": "code",
      "source": [
        "town = \"embu_blueValley\"\n",
        "print(town)"
      ],
      "metadata": {
        "colab": {
          "base_uri": "https://localhost:8080/"
        },
        "id": "23euOOUQvITq",
        "outputId": "dfb42633-4744-4f00-dbd8-84b1c626e940"
      },
      "execution_count": null,
      "outputs": [
        {
          "output_type": "stream",
          "name": "stdout",
          "text": [
            "embu_blueValley\n"
          ]
        }
      ]
    },
    {
      "cell_type": "code",
      "source": [
        "# Greeting message\n",
        "print(\"Hello! Welcome to the program.\")\n",
        "\n",
        "# Ask for the user's name\n",
        "name = input(\"What's your name? \")\n",
        "\n",
        "# Personalized greeting\n",
        "print(f\"Nice to meet you, {name}! Hope you're having a great day.\")"
      ],
      "metadata": {
        "colab": {
          "base_uri": "https://localhost:8080/"
        },
        "id": "NXuAPfEQ3oxC",
        "outputId": "033f9c27-7d0e-45cb-c12f-d6e73712a936"
      },
      "execution_count": null,
      "outputs": [
        {
          "output_type": "stream",
          "name": "stdout",
          "text": [
            "Hello! Welcome to the program.\n",
            "What's your name? Cyrus\n",
            "Nice to meet you, Cyrus! Hope you're having a great day.\n"
          ]
        }
      ]
    },
    {
      "cell_type": "code",
      "source": [
        "print(\"Hello and good morning\")\n",
        "#greetings\n",
        "name = input(\"what is your name\")\n",
        "#personalized greetings\n",
        "print(f\"Have a blessed day {name}\")\n"
      ],
      "metadata": {
        "colab": {
          "base_uri": "https://localhost:8080/"
        },
        "id": "XwzQTwqm323L",
        "outputId": "5ff07d43-5eba-479f-9873-237f4a0a61e9"
      },
      "execution_count": null,
      "outputs": [
        {
          "output_type": "stream",
          "name": "stdout",
          "text": [
            "Hello and good morning\n",
            "what is your nameCyrus\n",
            "Have a blessed day Cyrus\n"
          ]
        }
      ]
    },
    {
      "cell_type": "code",
      "source": [
        "input(\"What city did you grow up in?\")"
      ],
      "metadata": {
        "colab": {
          "base_uri": "https://localhost:8080/",
          "height": 53
        },
        "id": "N0Cvrym74_jm",
        "outputId": "0b544bc8-eed6-40e8-ccce-392aac2b770d"
      },
      "execution_count": null,
      "outputs": [
        {
          "name": "stdout",
          "output_type": "stream",
          "text": [
            "What city did you grow up in?Embu\n"
          ]
        },
        {
          "output_type": "execute_result",
          "data": {
            "text/plain": [
              "'Embu'"
            ],
            "application/vnd.google.colaboratory.intrinsic+json": {
              "type": "string"
            }
          },
          "metadata": {},
          "execution_count": 78
        }
      ]
    },
    {
      "cell_type": "code",
      "source": [
        "#Ask the user for the name of a pet.\n",
        "print(\"do you love pets?\")\n",
        "#name\n",
        "name = input(\"What is the name of your pet?\")\n",
        "print (f\"i really love {name}\")"
      ],
      "metadata": {
        "colab": {
          "base_uri": "https://localhost:8080/"
        },
        "id": "eOmZNbju5ZQH",
        "outputId": "7936b2dd-b7dc-436b-fe4e-75345a151019"
      },
      "execution_count": null,
      "outputs": [
        {
          "output_type": "stream",
          "name": "stdout",
          "text": [
            "do you love pets?\n",
            "What is the name of your pet?Snowy\n",
            "i really love Snowy\n"
          ]
        }
      ]
    },
    {
      "cell_type": "code",
      "source": [
        "print (\"Drinks are available\")\n",
        "fave_drink = input(\"Do you mind taking a \")\n",
        "print(f\"I have alays desired to have a cold {fave_drink}\")"
      ],
      "metadata": {
        "colab": {
          "base_uri": "https://localhost:8080/"
        },
        "id": "BuW_ANcpM6WK",
        "outputId": "bf3ad576-e2a2-45ce-ae62-d732b81fb744"
      },
      "execution_count": null,
      "outputs": [
        {
          "output_type": "stream",
          "name": "stdout",
          "text": [
            "Drinks are available\n",
            "Do you mind taking a Stoney\n",
            "I have alays desired to have a cold Stoney\n"
          ]
        }
      ]
    },
    {
      "cell_type": "code",
      "source": [
        "my_college = \"gomycode\"\n",
        "print(my_college)"
      ],
      "metadata": {
        "colab": {
          "base_uri": "https://localhost:8080/"
        },
        "id": "NGGVVxToNvKW",
        "outputId": "e26f08b8-f7f0-4b6f-faad-1196632e311a"
      },
      "execution_count": null,
      "outputs": [
        {
          "output_type": "stream",
          "name": "stdout",
          "text": [
            "gomycode\n"
          ]
        }
      ]
    },
    {
      "cell_type": "code",
      "source": [
        "my_college = \"gomycode\"\n",
        "print(my_college)\n",
        "print(f\"welcome to {my_college}\")"
      ],
      "metadata": {
        "colab": {
          "base_uri": "https://localhost:8080/"
        },
        "id": "bG7JTrNXN9Oz",
        "outputId": "2a7af121-4215-4f21-bf0c-5e0eca257931"
      },
      "execution_count": null,
      "outputs": [
        {
          "output_type": "stream",
          "name": "stdout",
          "text": [
            "gomycode\n",
            "welcome to gomycode\n"
          ]
        }
      ]
    },
    {
      "cell_type": "code",
      "source": [
        "my_string = \"welcome to python\"\n",
        "print(\"my_string[0] = \", my_string[0])"
      ],
      "metadata": {
        "colab": {
          "base_uri": "https://localhost:8080/"
        },
        "id": "jL3G7IZwPKMB",
        "outputId": "2a80116f-f12b-412e-e24e-2c90ce12aba9"
      },
      "execution_count": null,
      "outputs": [
        {
          "output_type": "stream",
          "name": "stdout",
          "text": [
            "my_string[0] =  w\n"
          ]
        }
      ]
    },
    {
      "cell_type": "code",
      "source": [
        "my_string = \"welcome to python\"\n",
        "print(\"my_string[-1] = \", my_string[-1])"
      ],
      "metadata": {
        "colab": {
          "base_uri": "https://localhost:8080/"
        },
        "id": "8m_vKT94PTge",
        "outputId": "8e08ae79-5b12-4e6b-db74-7330a74d3079"
      },
      "execution_count": null,
      "outputs": [
        {
          "output_type": "stream",
          "name": "stdout",
          "text": [
            "my_string[-1] =  n\n"
          ]
        }
      ]
    },
    {
      "cell_type": "code",
      "source": [
        "my_string = \"welcome to python\"\n",
        "print(\"my_string[1:5] = \", my_string[1:5])"
      ],
      "metadata": {
        "colab": {
          "base_uri": "https://localhost:8080/"
        },
        "id": "zcIUKsqwPsFi",
        "outputId": "c004ee09-8dcf-4ebf-aa34-79824a32920a"
      },
      "execution_count": null,
      "outputs": [
        {
          "output_type": "stream",
          "name": "stdout",
          "text": [
            "my_string[1:5] =  elco\n"
          ]
        }
      ]
    },
    {
      "cell_type": "code",
      "source": [
        "my_string = \"welcome to python\"\n",
        "print(\"my_string[5:-2] = \", my_string[5:-2])"
      ],
      "metadata": {
        "colab": {
          "base_uri": "https://localhost:8080/"
        },
        "id": "OQOli7AxP9sp",
        "outputId": "b0665b61-ee8a-404e-fa34-4e209eabd52c"
      },
      "execution_count": null,
      "outputs": [
        {
          "output_type": "stream",
          "name": "stdout",
          "text": [
            "my_string[5:-2] =  me to pyth\n"
          ]
        }
      ]
    },
    {
      "cell_type": "code",
      "source": [
        "strng1 = \"Welcome to\"\n",
        "strng2 = \"coding world!\"\n",
        "print(strng1 +\" \" +strng2)"
      ],
      "metadata": {
        "colab": {
          "base_uri": "https://localhost:8080/"
        },
        "id": "ObWV1XxMSSq2",
        "outputId": "e4318e79-371b-43b8-c188-c230ec460643"
      },
      "execution_count": null,
      "outputs": [
        {
          "output_type": "stream",
          "name": "stdout",
          "text": [
            "Welcome to coding world!\n"
          ]
        }
      ]
    },
    {
      "cell_type": "code",
      "source": [
        "my_integer = 1,2,3\n",
        "print(my_integer )"
      ],
      "metadata": {
        "colab": {
          "base_uri": "https://localhost:8080/"
        },
        "id": "FIlHt1U_Tz_g",
        "outputId": "987addea-175d-4f6f-db97-9d6ee5f3fdf3"
      },
      "execution_count": null,
      "outputs": [
        {
          "output_type": "stream",
          "name": "stdout",
          "text": [
            "(1, 2, 3)\n"
          ]
        }
      ]
    },
    {
      "cell_type": "code",
      "source": [
        "My_floats  = 1.256234\n",
        "print(My_floats)"
      ],
      "metadata": {
        "colab": {
          "base_uri": "https://localhost:8080/"
        },
        "id": "QuFbjjY-UF92",
        "outputId": "a9cbba80-5eb7-4590-febb-79ef6d276cf9"
      },
      "execution_count": null,
      "outputs": [
        {
          "output_type": "stream",
          "name": "stdout",
          "text": [
            "1.256234\n"
          ]
        }
      ]
    },
    {
      "cell_type": "code",
      "source": [
        "10<5"
      ],
      "metadata": {
        "colab": {
          "base_uri": "https://localhost:8080/"
        },
        "id": "A47U2KLzUhZt",
        "outputId": "3c7598c2-8b07-456d-e2fa-d7b831f9ccf6"
      },
      "execution_count": null,
      "outputs": [
        {
          "output_type": "execute_result",
          "data": {
            "text/plain": [
              "False"
            ]
          },
          "metadata": {},
          "execution_count": 101
        }
      ]
    },
    {
      "cell_type": "code",
      "source": [
        "15>11"
      ],
      "metadata": {
        "colab": {
          "base_uri": "https://localhost:8080/"
        },
        "id": "3zKdqXrUUlJk",
        "outputId": "e1bf940b-a932-4b9d-d027-fb66a9077f48"
      },
      "execution_count": null,
      "outputs": [
        {
          "output_type": "execute_result",
          "data": {
            "text/plain": [
              "True"
            ]
          },
          "metadata": {},
          "execution_count": 102
        }
      ]
    },
    {
      "cell_type": "code",
      "source": [
        "print((2>5) == (6>2))"
      ],
      "metadata": {
        "colab": {
          "base_uri": "https://localhost:8080/"
        },
        "id": "5zspQ7O6U8qm",
        "outputId": "f0670a80-3550-4f24-ac78-e85520b2141e"
      },
      "execution_count": null,
      "outputs": [
        {
          "output_type": "stream",
          "name": "stdout",
          "text": [
            "False\n"
          ]
        }
      ]
    },
    {
      "cell_type": "code",
      "source": [
        "# Input: a two-digit number\n",
        "two_digit_number = input(\"Enter a two-digit number: \")\n",
        "\n",
        "# Extract the digits from the input\n",
        "digit1 = int(two_digit_number[0])  # First digit\n",
        "digit2 = int(two_digit_number[1])  # Second digit\n",
        "\n",
        "# Calculate the sum of the digits\n",
        "digit_sum = digit1 + digit2\n",
        "\n",
        "# Print the output\n",
        "print(f\"{digit1} + {digit2} = {digit_sum}\")"
      ],
      "metadata": {
        "id": "zNkZNd6QVFMp",
        "outputId": "f6c1a674-6e67-457e-8350-cb4c78ff79e1",
        "colab": {
          "base_uri": "https://localhost:8080/"
        }
      },
      "execution_count": null,
      "outputs": [
        {
          "output_type": "stream",
          "name": "stdout",
          "text": [
            "Enter a two-digit number: 25\n",
            "2 + 5 = 7\n"
          ]
        }
      ]
    },
    {
      "cell_type": "code",
      "source": [
        "# Q2 Welcome message\n",
        "print(\"Welcome to Python Pizza Deliveries!\")"
      ],
      "metadata": {
        "colab": {
          "base_uri": "https://localhost:8080/"
        },
        "id": "RE2uPEdZIkii",
        "outputId": "82d148e5-e84f-4f58-ac02-dbebf56f3d9b"
      },
      "execution_count": null,
      "outputs": [
        {
          "output_type": "stream",
          "name": "stdout",
          "text": [
            "Welcome to Python Pizza Deliveries!\n"
          ]
        }
      ]
    },
    {
      "cell_type": "code",
      "source": [
        "# Q2 Begin by typing the line 'Welcome to Python Pizza Deliveries' which will display a welcome message when the code is run.\n",
        "print(\"Welcome to Python Pizza Deliveries!\")\n",
        "\n",
        "#Q3 Add a line that prompts the user for the size of the pizza they want using the input() function and stores the user's input in a variable named 'size'.\n",
        "size = input(\"What size pizza do you want? S, M, or L: \").upper()"
      ],
      "metadata": {
        "colab": {
          "base_uri": "https://localhost:8080/"
        },
        "id": "fmnqm1M5JlzM",
        "outputId": "c2b58403-a448-48f4-e764-dc56ff1b132f"
      },
      "execution_count": null,
      "outputs": [
        {
          "name": "stdout",
          "output_type": "stream",
          "text": [
            "Welcome to Python Pizza Deliveries!\n",
            "What size pizza do you want? S, M, or L: L\n"
          ]
        }
      ]
    },
    {
      "cell_type": "code",
      "source": [
        "# Q2: Begin by typing the line 'Welcome to Python Pizza Deliveries' which will display a welcome message when the code is run.\n",
        "print(\"Welcome to Python Pizza Deliveries!\")\n",
        "\n",
        "#Q3: Add a line that prompts the user for the size of the pizza they want using the input() function and stores the user's input in a variable named 'size'.\n",
        "size = input(\"What size pizza do you want? S, M, or L: \").upper()\n",
        "\n",
        "#Q3: Add a line that prompts the user if they want pepperoni on their pizza using the input() function and stores the user's input in a variable named 'add_pepperoni'.\n",
        "add_pepperoni = input(\"Do you want pepperoni? Y or N: \").upper()"
      ],
      "metadata": {
        "colab": {
          "base_uri": "https://localhost:8080/"
        },
        "id": "A5IfL4RTKf8i",
        "outputId": "fffb2c2b-edeb-4b52-9304-70099a0abaed"
      },
      "execution_count": null,
      "outputs": [
        {
          "name": "stdout",
          "output_type": "stream",
          "text": [
            "Welcome to Python Pizza Deliveries!\n",
            "What size pizza do you want? S, M, or L: L\n",
            "Do you want pepperoni? Y or N: Y\n"
          ]
        }
      ]
    },
    {
      "cell_type": "code",
      "source": [
        "# Q2: Begin by typing the line 'Welcome to Python Pizza Deliveries' which will display a welcome message when the code is run.\n",
        "print(\"Welcome to Python Pizza Deliveries!\")\n",
        "\n",
        "#Q3: Add a line that prompts the user for the size of the pizza they want using the input() function and stores the user's input in a variable named 'size'.\n",
        "size = input(\"What size pizza do you want? S, M, or L: \").upper()\n",
        "\n",
        "#Q4: Add a line that prompts the user if they want pepperoni on their pizza using the input() function and stores the user's input in a variable named 'add_pepperoni'.\n",
        "add_pepperoni = input(\"Do you want pepperoni? Y or N: \").upper()\n",
        "\n",
        "#Q5: Add a line that prompts the user if they want extra cheese on their pizza using the input() function and stores the user's input in a variable named 'extra_cheese'.\n",
        "extra_cheese = input(\"Do you want extra cheese? Y or N: \").upper()"
      ],
      "metadata": {
        "colab": {
          "base_uri": "https://localhost:8080/"
        },
        "id": "DEI5PC48LSYi",
        "outputId": "a475cc12-dd1e-46d1-b869-74d342a9ee6c"
      },
      "execution_count": null,
      "outputs": [
        {
          "name": "stdout",
          "output_type": "stream",
          "text": [
            "Welcome to Python Pizza Deliveries!\n",
            "What size pizza do you want? S, M, or L: L\n",
            "Do you want pepperoni? Y or N: Y\n",
            "Do you want extra cheese? Y or N: Y\n"
          ]
        }
      ]
    },
    {
      "cell_type": "code",
      "source": [
        "# Q2: Begin by typing the line 'Welcome to Python Pizza Deliveries' which will display a welcome message when the code is run.\n",
        "print(\"Welcome to Python Pizza Deliveries!\")\n",
        "\n",
        "#Q3: Add a line that prompts the user for the size of the pizza they want using the input() function and stores the user's input in a variable named 'size'.\n",
        "size = input(\"What size pizza do you want? S, M, or L: \").upper()\n",
        "\n",
        "#Q4: Add a line that prompts the user if they want pepperoni on their pizza using the input() function and stores the user's input in a variable named 'add_pepperoni'.\n",
        "add_pepperoni = input(\"Do you want pepperoni? Y or N: \").upper()\n",
        "\n",
        "#Q5: Add a line that prompts the user if they want extra cheese on their pizza using the input() function and stores the user's input in a variable named 'extra_cheese'.\n",
        "extra_cheese = input(\"Do you want extra cheese? Y or N: \").upper()\n",
        "\n",
        "#Q6: Check your code for any syntax errors or mistakes.\n",
        "# Code is free from any errors\n",
        "\n",
        "#Q7: Run the code and test it by providing inputs for size, pepperoni, and extra cheese."
      ],
      "metadata": {
        "colab": {
          "base_uri": "https://localhost:8080/"
        },
        "id": "hKpNIQAqLwxA",
        "outputId": "81b5142e-d9e5-4b5e-d293-b3dd70053df9"
      },
      "execution_count": null,
      "outputs": [
        {
          "name": "stdout",
          "output_type": "stream",
          "text": [
            "Welcome to Python Pizza Deliveries!\n",
            "What size pizza do you want? S, M, or L: L\n",
            "Do you want pepperoni? Y or N: Y\n",
            "Do you want extra cheese? Y or N: N\n"
          ]
        }
      ]
    },
    {
      "cell_type": "code",
      "source": [
        "# Determine the base price based on pizza size\n",
        "if size == \"S\":\n",
        "    bill = 15\n",
        "elif size == \"M\":\n",
        "    bill = 20\n",
        "elif size == \"L\":\n",
        "    bill = 25\n",
        "\n",
        "# Add cost for pepperoni if requested\n",
        "if add_pepperoni == \"Y\":\n",
        "    if size == \"S\":\n",
        "        bill += 2  # Pepperoni for small pizza\n",
        "    else:\n",
        "        bill += 3  # Pepperoni for medium or large pizza\n",
        "\n",
        "# Add cost for extra cheese if requested\n",
        "if extra_cheese == \"Y\":\n",
        "    bill += 1\n",
        "# Q1 Open a new file in your Python development environment or IDE.\n",
        "#Did my assignment on google colabs\n",
        "\n",
        "# Q2: Begin by typing the line 'Welcome to Python Pizza Deliveries' which will display a welcome message when the code is run.\n",
        "print(\"Welcome to Python Pizza Deliveries!\")\n",
        "\n",
        "#Q3: Add a line that prompts the user for the size of the pizza they want using the input() function and stores the user's input in a variable named 'size'.\n",
        "size = input(\"What size pizza do you want? S, M, or L: \").upper()\n",
        "\n",
        "#Q4: Add a line that prompts the user if they want pepperoni on their pizza using the input() function and stores the user's input in a variable named 'add_pepperoni'.\n",
        "add_pepperoni = input(\"Do you want pepperoni? Y or N: \").upper()\n",
        "\n",
        "#Q5: Add a line that prompts the user if they want extra cheese on their pizza using the input() function and stores the user's input in a variable named 'extra_cheese'.\n",
        "extra_cheese = input(\"Do you want extra cheese? Y or N: \").upper()\n",
        "\n",
        "#Q6: Check your code for any syntax errors or mistakes.\n",
        "# Code is free from any errors\n",
        "\n",
        "#Q7: Run the code and test it by providing inputs for size, pepperoni, and extra cheese.\n",
        "\n",
        "# Output the final bill\n",
        "print(f\"Your final bill is: ${bill}.\")"
      ],
      "metadata": {
        "colab": {
          "base_uri": "https://localhost:8080/"
        },
        "id": "P54GIYiEMQfv",
        "outputId": "eb1f1833-6fd7-4eb6-b609-0d6bd2831224"
      },
      "execution_count": null,
      "outputs": [
        {
          "output_type": "stream",
          "name": "stdout",
          "text": [
            "Welcome to Python Pizza Deliveries!\n",
            "What size pizza do you want? S, M, or L: S\n",
            "Do you want pepperoni? Y or N: N\n",
            "Do you want extra cheese? Y or N: Y\n",
            "Your final bill is: $28.\n"
          ]
        }
      ]
    },
    {
      "cell_type": "code",
      "source": [
        "weight = 65\n",
        "if weight >= 80:\n",
        "  print(\"Overweight\")\n",
        "elif weight >60:\n",
        "  print(\"Doing well, please maintain\")\n",
        "elif weight >50:\n",
        "  print(\"Are you stressed up, do more to recover lost weight\")\n",
        "else:\n",
        "  print(\"You are underweight, please reach out!\")\n"
      ],
      "metadata": {
        "colab": {
          "base_uri": "https://localhost:8080/"
        },
        "id": "EBGrhZrERsKh",
        "outputId": "2f87fee3-a2bc-49ce-b31f-9cc79f7ba193"
      },
      "execution_count": null,
      "outputs": [
        {
          "output_type": "stream",
          "name": "stdout",
          "text": [
            "Doing well, please maintain\n"
          ]
        }
      ]
    },
    {
      "cell_type": "code",
      "source": [
        "my_list = [\"python\", \"java\", \"SQL\",\"R\", \"SAS\", \"C++\", \"php\", \"html\"]\n",
        "print(my_list[1])"
      ],
      "metadata": {
        "colab": {
          "base_uri": "https://localhost:8080/"
        },
        "id": "gOA1gY2icot_",
        "outputId": "7336b56d-5702-452c-bcaa-b050284cecb3"
      },
      "execution_count": null,
      "outputs": [
        {
          "output_type": "stream",
          "name": "stdout",
          "text": [
            "java\n"
          ]
        }
      ]
    },
    {
      "cell_type": "code",
      "source": [
        "my_list = [\"python\", \"java\", \"SQL\",\"R\", \"SAS\", \"C++\", \"php\", \"html\"]\n",
        "print(my_list[2])"
      ],
      "metadata": {
        "colab": {
          "base_uri": "https://localhost:8080/"
        },
        "id": "wy8oB60Ac8OB",
        "outputId": "e5daac3d-3dbb-469d-a260-e469186e88d7"
      },
      "execution_count": null,
      "outputs": [
        {
          "output_type": "stream",
          "name": "stdout",
          "text": [
            "SQL\n"
          ]
        }
      ]
    },
    {
      "cell_type": "code",
      "source": [
        "my_list = [\"python\", \"java\", \"SQL\",\"R\", \"SAS\", \"C++\", \"php\", \"html\"]\n",
        "print(my_list[2:5])"
      ],
      "metadata": {
        "colab": {
          "base_uri": "https://localhost:8080/"
        },
        "id": "U1kcjBkqhjCt",
        "outputId": "5d74dfa5-2c82-4276-c625-a2a28d993669"
      },
      "execution_count": null,
      "outputs": [
        {
          "output_type": "stream",
          "name": "stdout",
          "text": [
            "['SQL', 'R', 'SAS']\n"
          ]
        }
      ]
    },
    {
      "cell_type": "code",
      "source": [
        "my_list = [\"python\", \"java\", \"SQL\",\"R\", \"SAS\", \"C++\", \"php\", \"html\"]\n",
        "print(len(my_list))"
      ],
      "metadata": {
        "colab": {
          "base_uri": "https://localhost:8080/"
        },
        "id": "63isHTCCh61j",
        "outputId": "747e7fcb-9039-4cdb-cc47-3ea72abbf9bf"
      },
      "execution_count": null,
      "outputs": [
        {
          "output_type": "stream",
          "name": "stdout",
          "text": [
            "8\n"
          ]
        }
      ]
    },
    {
      "cell_type": "code",
      "source": [
        "my_list = [\"python\", \"java\", \"SQL\",\"R\", \"SAS\", \"C++\", \"php\", \"html\"]\n",
        "my_list.append(\"Matlab\")\n",
        "print(my_list)"
      ],
      "metadata": {
        "colab": {
          "base_uri": "https://localhost:8080/"
        },
        "id": "_w6LltLsipXu",
        "outputId": "cc8f0024-01ff-436f-8e93-cc77a02a45dd"
      },
      "execution_count": null,
      "outputs": [
        {
          "output_type": "stream",
          "name": "stdout",
          "text": [
            "['python', 'java', 'SQL', 'R', 'SAS', 'C++', 'php', 'html', 'Matlab']\n"
          ]
        }
      ]
    },
    {
      "cell_type": "code",
      "source": [
        "my_list = [\"python\", \"java\", \"SQL\",\"R\", \"SAS\", \"C++\", \"php\", \"html\"]\n",
        "my_list.insert(1,\"Spark\")\n",
        "print(my_list)"
      ],
      "metadata": {
        "colab": {
          "base_uri": "https://localhost:8080/"
        },
        "id": "AaMZYiF4j6xQ",
        "outputId": "58d2ac85-d92a-42e2-9a70-afdc2c2d619c"
      },
      "execution_count": null,
      "outputs": [
        {
          "output_type": "stream",
          "name": "stdout",
          "text": [
            "['python', 'Spark', 'java', 'SQL', 'R', 'SAS', 'C++', 'php', 'html']\n"
          ]
        }
      ]
    },
    {
      "cell_type": "code",
      "source": [
        "my_dictionary =\t{\"knowledge\": \"Data Science\",\n",
        "                 \"tool\": \"python\",\n",
        "                 \"year\": 2020}\n",
        "for key in my_dictionary.keys():     # Loop Through dictionary keys\n",
        "  print(key)"
      ],
      "metadata": {
        "colab": {
          "base_uri": "https://localhost:8080/"
        },
        "id": "fM83ldlPp7o6",
        "outputId": "8c223a14-8be8-4ad3-8b26-e756dfa80b1a"
      },
      "execution_count": null,
      "outputs": [
        {
          "output_type": "stream",
          "name": "stdout",
          "text": [
            "knowledge\n",
            "tool\n",
            "year\n"
          ]
        }
      ]
    },
    {
      "cell_type": "code",
      "source": [
        "my_dictionary =\t{\"knowledge\": \"Data Science\",\"tool\": \"python\",\"year\": 2020}\n",
        "for value in my_dictionary.values():    #  Loop Through dictionary values\n",
        "   print(value)"
      ],
      "metadata": {
        "colab": {
          "base_uri": "https://localhost:8080/"
        },
        "id": "1pZSMRSkp9mn",
        "outputId": "c4e6ee23-6989-4441-ac97-bc5427f6c1b5"
      },
      "execution_count": null,
      "outputs": [
        {
          "output_type": "stream",
          "name": "stdout",
          "text": [
            "Data Science\n",
            "python\n",
            "2020\n"
          ]
        }
      ]
    },
    {
      "cell_type": "code",
      "source": [
        "my_dictionary =\t{\"knowledge\": \"Data Science\",\"tool\": \"python\",\"year\": 2020}\n",
        "for item in my_dictionary.items():     # Loop Through dictionary items\n",
        "   print(item)"
      ],
      "metadata": {
        "colab": {
          "base_uri": "https://localhost:8080/"
        },
        "id": "0dQE5Heqp-ao",
        "outputId": "52790ca9-f5b7-4421-d26c-7597cc2a5aa3"
      },
      "execution_count": null,
      "outputs": [
        {
          "output_type": "stream",
          "name": "stdout",
          "text": [
            "('knowledge', 'Data Science')\n",
            "('tool', 'python')\n",
            "('year', 2020)\n"
          ]
        }
      ]
    },
    {
      "cell_type": "code",
      "source": [
        "print(\"Hello Esssy, how are you?\")\n",
        "input(\"feeling \")\n",
        "input(\"How has your day been \")\n",
        "input(\"Were you able to take lunch today? Y or N: \").upper()\n",
        "print(\"It has always been a pleasure, HAVE A GREAT EVENING: :)\")"
      ],
      "metadata": {
        "colab": {
          "base_uri": "https://localhost:8080/"
        },
        "id": "oi0kunY3VtVl",
        "outputId": "d16dd573-4903-405c-b9c0-62a1e2db669a"
      },
      "execution_count": null,
      "outputs": [
        {
          "output_type": "stream",
          "name": "stdout",
          "text": [
            "Hello Esssy, how are you?\n",
            "feeling Am good you?\n",
            "How has your day been great thank you\n",
            "Were you able to take lunch today? Y or N: n\n",
            "It has always been a pleasure, HAVE A GREAT EVENING: :)\n"
          ]
        }
      ]
    },
    {
      "cell_type": "code",
      "source": [
        "my_education = {\"diploma\": \"business_management\", \"degree\": \"bcom\",\"masters\": \"strategic_management\",\"certification\": \"data_science\"}\n",
        "for key in my_dictionary.keys():\n",
        "  print(key)"
      ],
      "metadata": {
        "colab": {
          "base_uri": "https://localhost:8080/"
        },
        "id": "VBZsWQMxrWnM",
        "outputId": "df46e23a-d188-4c87-eb4d-62036b3e7222"
      },
      "execution_count": null,
      "outputs": [
        {
          "output_type": "stream",
          "name": "stdout",
          "text": [
            "knowledge\n",
            "tool\n",
            "year\n"
          ]
        }
      ]
    },
    {
      "cell_type": "code",
      "source": [
        "my_education = {\"diploma\": \"business_management\", \"degree\": \"bcom\",\"masters\": \"strategic_management\",\"certification\": \"data_science\"}\n",
        "for value in my_dictionary.values():\n",
        "   print(value)"
      ],
      "metadata": {
        "colab": {
          "base_uri": "https://localhost:8080/"
        },
        "id": "7SVihZUDxW9C",
        "outputId": "f264adef-8307-4ec0-cde0-7d80a1c7d14e"
      },
      "execution_count": null,
      "outputs": [
        {
          "output_type": "stream",
          "name": "stdout",
          "text": [
            "Data Science\n",
            "python\n",
            "2020\n"
          ]
        }
      ]
    },
    {
      "cell_type": "code",
      "source": [
        "my_education = {\"diploma\": \"business_management\", \"degree\": \"bcom\",\"masters\": \"strategic_management\",\"certification\": \"data_science\"}\n",
        "for item in my_dictionary.items():\n",
        "   print(item)"
      ],
      "metadata": {
        "colab": {
          "base_uri": "https://localhost:8080/"
        },
        "id": "Aqz3JrLVx4U2",
        "outputId": "9d70876a-f55c-4771-bd45-03bc39232696"
      },
      "execution_count": null,
      "outputs": [
        {
          "output_type": "stream",
          "name": "stdout",
          "text": [
            "('knowledge', 'Data Science')\n",
            "('tool', 'python')\n",
            "('year', 2020)\n"
          ]
        }
      ]
    },
    {
      "cell_type": "code",
      "source": [
        "#Create a tuple called \"person\" that contains a string \"John\" as a name, 25 as an age and \"male\" as a gender.\n",
        "person = (\"John\", 25, \"male\")\n",
        "print(person)"
      ],
      "metadata": {
        "colab": {
          "base_uri": "https://localhost:8080/"
        },
        "id": "rta45aXf01xF",
        "outputId": "33b776f6-4e5f-4ced-d4a7-6406021e4b17"
      },
      "execution_count": null,
      "outputs": [
        {
          "output_type": "stream",
          "name": "stdout",
          "text": [
            "('John', 25, 'male')\n"
          ]
        }
      ]
    },
    {
      "cell_type": "code",
      "source": [
        "#Create a tuple called \"person\" that contains a string \"John\" as a name, 25 as an age and \"male\" as a gender.\n",
        "person = (\"John\", 25, \"male\")\n",
        "print(person)\n",
        "#Try to change the age of the person and see what happens.\n",
        "person.remove(\"age\")\n",
        "print(person)"
      ],
      "metadata": {
        "colab": {
          "base_uri": "https://localhost:8080/",
          "height": 211
        },
        "id": "vOiOBljs7LBM",
        "outputId": "79da408f-c028-4f9d-ef1f-81c3576b869b"
      },
      "execution_count": null,
      "outputs": [
        {
          "output_type": "stream",
          "name": "stdout",
          "text": [
            "('John', 25, 'male')\n"
          ]
        },
        {
          "output_type": "error",
          "ename": "AttributeError",
          "evalue": "'tuple' object has no attribute 'remove'",
          "traceback": [
            "\u001b[0;31m---------------------------------------------------------------------------\u001b[0m",
            "\u001b[0;31mAttributeError\u001b[0m                            Traceback (most recent call last)",
            "\u001b[0;32m<ipython-input-71-d52db59a1a14>\u001b[0m in \u001b[0;36m<cell line: 5>\u001b[0;34m()\u001b[0m\n\u001b[1;32m      3\u001b[0m \u001b[0mprint\u001b[0m\u001b[0;34m(\u001b[0m\u001b[0mperson\u001b[0m\u001b[0;34m)\u001b[0m\u001b[0;34m\u001b[0m\u001b[0;34m\u001b[0m\u001b[0m\n\u001b[1;32m      4\u001b[0m \u001b[0;31m#Try to change the age of the person and see what happens.\u001b[0m\u001b[0;34m\u001b[0m\u001b[0;34m\u001b[0m\u001b[0m\n\u001b[0;32m----> 5\u001b[0;31m \u001b[0mperson\u001b[0m\u001b[0;34m.\u001b[0m\u001b[0mremove\u001b[0m\u001b[0;34m(\u001b[0m\u001b[0;34m\"age\"\u001b[0m\u001b[0;34m)\u001b[0m\u001b[0;34m\u001b[0m\u001b[0;34m\u001b[0m\u001b[0m\n\u001b[0m\u001b[1;32m      6\u001b[0m \u001b[0mprint\u001b[0m\u001b[0;34m(\u001b[0m\u001b[0mperson\u001b[0m\u001b[0;34m)\u001b[0m\u001b[0;34m\u001b[0m\u001b[0;34m\u001b[0m\u001b[0m\n",
            "\u001b[0;31mAttributeError\u001b[0m: 'tuple' object has no attribute 'remove'"
          ]
        }
      ]
    },
    {
      "cell_type": "code",
      "source": [
        "#Create a list called \"grocery_list\" that contains \"milk\", \"bread\", \"eggs\", \"bananas\"\n",
        "my_list = [\"milk\", \"bread\", \"eggs\", \"bananas\"]\n",
        "print(my_list[0])   #Print the first item in the grocery_list."
      ],
      "metadata": {
        "colab": {
          "base_uri": "https://localhost:8080/"
        },
        "id": "d_bjyY3o7vG5",
        "outputId": "fcfd1e69-c34a-4f62-929e-b643f96e9a7a"
      },
      "execution_count": null,
      "outputs": [
        {
          "output_type": "stream",
          "name": "stdout",
          "text": [
            "milk\n"
          ]
        }
      ]
    },
    {
      "cell_type": "code",
      "source": [
        "my_list = [\"milk\", \"bread\", \"eggs\", \"bananas\"]\n",
        "#Add \"chocolate\" to the grocery_list\n",
        "my_list.append(\"chocolate\")\n",
        "print(my_list)"
      ],
      "metadata": {
        "colab": {
          "base_uri": "https://localhost:8080/"
        },
        "id": "5z7By8K38rob",
        "outputId": "1243bbd6-f28c-4d3b-d093-7e0215ac392c"
      },
      "execution_count": null,
      "outputs": [
        {
          "output_type": "stream",
          "name": "stdout",
          "text": [
            "['milk', 'bread', 'eggs', 'bananas', 'chocolate']\n"
          ]
        }
      ]
    },
    {
      "cell_type": "code",
      "source": [
        "my_list = [\"milk\", \"bread\", \"eggs\", \"bananas\", \"chocolate\"]\n",
        "#Remove \"milk\" from the grocery_list\n",
        "my_list.remove(\"milk\")\n",
        "print(my_list)"
      ],
      "metadata": {
        "colab": {
          "base_uri": "https://localhost:8080/"
        },
        "id": "_Un8nF7x9UNO",
        "outputId": "748f6743-f6fe-4365-fb42-a190695bb319"
      },
      "execution_count": null,
      "outputs": [
        {
          "output_type": "stream",
          "name": "stdout",
          "text": [
            "['bread', 'eggs', 'bananas', 'chocolate']\n"
          ]
        }
      ]
    },
    {
      "cell_type": "code",
      "source": [
        "#Create a set called \"unique_numbers\" that contains the integers 1, 2, 3, 4, 5\n",
        "unique_numbers = {1,2,3,4,5}\n",
        "print(unique_numbers)"
      ],
      "metadata": {
        "colab": {
          "base_uri": "https://localhost:8080/"
        },
        "id": "jBPKENjc9-n9",
        "outputId": "c1cad246-7b31-4578-f5b6-4cf6bc3f9a17"
      },
      "execution_count": null,
      "outputs": [
        {
          "output_type": "stream",
          "name": "stdout",
          "text": [
            "{1, 2, 3, 4, 5}\n"
          ]
        }
      ]
    },
    {
      "cell_type": "code",
      "source": [
        "#Add number 6 to the unique_numbers\n",
        "unique_numbers = {1,2,3,4,5}\n",
        "unique_numbers.add(6)\n",
        "print(unique_numbers)"
      ],
      "metadata": {
        "colab": {
          "base_uri": "https://localhost:8080/"
        },
        "id": "IihmeEkl-pba",
        "outputId": "304f58d1-6723-456e-bd06-397b34fda620"
      },
      "execution_count": null,
      "outputs": [
        {
          "output_type": "stream",
          "name": "stdout",
          "text": [
            "{1, 2, 3, 4, 5, 6}\n"
          ]
        }
      ]
    }
  ]
}